{
  "nbformat": 4,
  "nbformat_minor": 0,
  "metadata": {
    "colab": {
      "provenance": []
    },
    "kernelspec": {
      "name": "python3",
      "display_name": "Python 3"
    },
    "language_info": {
      "name": "python"
    }
  },
  "cells": [
    {
      "cell_type": "code",
      "execution_count": 1,
      "metadata": {
        "id": "Ob0iCMSdxPLP",
        "colab": {
          "base_uri": "https://localhost:8080/"
        },
        "outputId": "46761232-5967-4e22-81f8-406671add50b"
      },
      "outputs": [
        {
          "output_type": "execute_result",
          "data": {
            "text/plain": [
              "('$spx_2024_7c7aee26b7e19bb8a275bfc324227e64f059106b.csv.gz',\n",
              " <http.client.HTTPMessage at 0x7d5ab9031900>)"
            ]
          },
          "metadata": {},
          "execution_count": 1
        }
      ],
      "source": [
        "import urllib.request\n",
        "filename = '$spx_2024_7c7aee26b7e19bb8a275bfc324227e64f059106b.csv.gz'\n",
        "urllib.request.urlretrieve('https://indigo-gazelle-447398.hostingersite.com/data/spx/$spx_2024_7c7aee26b7e19bb8a275bfc324227e64f059106b.csv.gz', filename)"
      ]
    },
    {
      "cell_type": "code",
      "source": [
        "!wget -O spx_2024.csv.gz 'https://indigo-gazelle-447398.hostingersite.com/data/spx/$spx_2024_7c7aee26b7e19bb8a275bfc324227e64f059106b.csv.gz'\n"
      ],
      "metadata": {
        "colab": {
          "base_uri": "https://localhost:8080/"
        },
        "id": "423d547Px-O9",
        "outputId": "9349fdd7-39cc-420f-8864-d2d1528b481d"
      },
      "execution_count": 8,
      "outputs": [
        {
          "output_type": "stream",
          "name": "stdout",
          "text": [
            "--2024-08-13 17:34:37--  https://indigo-gazelle-447398.hostingersite.com/data/spx/$spx_2024_7c7aee26b7e19bb8a275bfc324227e64f059106b.csv.gz\n",
            "Resolving indigo-gazelle-447398.hostingersite.com (indigo-gazelle-447398.hostingersite.com)... 191.101.228.250, 2a02:4780:1e:d590:7574:a499:b568:e0a2\n",
            "Connecting to indigo-gazelle-447398.hostingersite.com (indigo-gazelle-447398.hostingersite.com)|191.101.228.250|:443... connected.\n",
            "HTTP request sent, awaiting response... 200 OK\n",
            "Length: 290934 (284K) [application/gzip]\n",
            "Saving to: ‘spx_2024.csv.gz’\n",
            "\n",
            "spx_2024.csv.gz     100%[===================>] 284.12K   282KB/s    in 1.0s    \n",
            "\n",
            "2024-08-13 17:34:41 (282 KB/s) - ‘spx_2024.csv.gz’ saved [290934/290934]\n",
            "\n"
          ]
        }
      ]
    },
    {
      "cell_type": "code",
      "source": [
        "!gzip -d spx_2024.csv.gz"
      ],
      "metadata": {
        "id": "j5E_Q4z-zPoW"
      },
      "execution_count": 9,
      "outputs": []
    },
    {
      "cell_type": "code",
      "source": [
        "import dask\n",
        "# from dask import dataframe as ddf\n",
        "from dask import bag as db\n",
        "from dask import dataframe as df\n",
        "import pandas as pd\n",
        "import numpy as np"
      ],
      "metadata": {
        "colab": {
          "base_uri": "https://localhost:8080/"
        },
        "id": "7LI6lWeqx4Qq",
        "outputId": "47d8628a-4bc4-4d52-9e2f-42933703c3a0"
      },
      "execution_count": 14,
      "outputs": [
        {
          "output_type": "stream",
          "name": "stderr",
          "text": [
            "/usr/local/lib/python3.10/dist-packages/dask/dataframe/__init__.py:42: FutureWarning: \n",
            "Dask dataframe query planning is disabled because dask-expr is not installed.\n",
            "\n",
            "You can install it with `pip install dask[dataframe]` or `conda install dask`.\n",
            "This will raise in a future version.\n",
            "\n",
            "  warnings.warn(msg, FutureWarning)\n"
          ]
        }
      ]
    },
    {
      "cell_type": "code",
      "source": [],
      "metadata": {
        "id": "2Ko09qB5z7VU"
      },
      "execution_count": null,
      "outputs": []
    },
    {
      "cell_type": "code",
      "source": [
        "spx1 = db.read_text('spx_2024.csv')"
      ],
      "metadata": {
        "id": "Cu_6bZtxzDqf"
      },
      "execution_count": 44,
      "outputs": []
    },
    {
      "cell_type": "markdown",
      "source": [],
      "metadata": {
        "id": "q1LFJAZiaIEa"
      }
    },
    {
      "cell_type": "code",
      "source": [
        "spx2 = df.read_csv('spx_2024.csv')"
      ],
      "metadata": {
        "id": "NZ_3FOsf0HWC"
      },
      "execution_count": 15,
      "outputs": []
    },
    {
      "cell_type": "code",
      "source": [
        "spx1.take(1)"
      ],
      "metadata": {
        "colab": {
          "base_uri": "https://localhost:8080/"
        },
        "id": "bShLUEK3z0v1",
        "outputId": "2f27117f-835e-4921-c7ba-26026939fdab"
      },
      "execution_count": 45,
      "outputs": [
        {
          "output_type": "execute_result",
          "data": {
            "text/plain": [
              "('date,open,high,low,close,volume\\n',)"
            ]
          },
          "metadata": {},
          "execution_count": 45
        }
      ]
    },
    {
      "cell_type": "code",
      "source": [
        "spx2.head()"
      ],
      "metadata": {
        "colab": {
          "base_uri": "https://localhost:8080/",
          "height": 206
        },
        "id": "PfAZRvwc0Sjh",
        "outputId": "fb28a017-ae89-4005-8279-2a40545f1f9f"
      },
      "execution_count": 17,
      "outputs": [
        {
          "output_type": "execute_result",
          "data": {
            "text/plain": [
              "                  date     open     high      low    close  volume\n",
              "0  2024-01-02 09:30:00  4745.20  4745.20  4738.63  4742.78     0.0\n",
              "1  2024-01-02 09:31:00  4742.96  4743.28  4741.36  4743.28     0.0\n",
              "2  2024-01-02 09:32:00  4743.24  4744.86  4742.96  4744.67     0.0\n",
              "3  2024-01-02 09:33:00  4744.84  4744.84  4742.10  4744.08     0.0\n",
              "4  2024-01-02 09:34:00  4744.11  4744.37  4742.88  4743.21     0.0"
            ],
            "text/html": [
              "\n",
              "  <div id=\"df-b9ea9654-5271-4487-a472-c6e291d78326\" class=\"colab-df-container\">\n",
              "    <div>\n",
              "<style scoped>\n",
              "    .dataframe tbody tr th:only-of-type {\n",
              "        vertical-align: middle;\n",
              "    }\n",
              "\n",
              "    .dataframe tbody tr th {\n",
              "        vertical-align: top;\n",
              "    }\n",
              "\n",
              "    .dataframe thead th {\n",
              "        text-align: right;\n",
              "    }\n",
              "</style>\n",
              "<table border=\"1\" class=\"dataframe\">\n",
              "  <thead>\n",
              "    <tr style=\"text-align: right;\">\n",
              "      <th></th>\n",
              "      <th>date</th>\n",
              "      <th>open</th>\n",
              "      <th>high</th>\n",
              "      <th>low</th>\n",
              "      <th>close</th>\n",
              "      <th>volume</th>\n",
              "    </tr>\n",
              "  </thead>\n",
              "  <tbody>\n",
              "    <tr>\n",
              "      <th>0</th>\n",
              "      <td>2024-01-02 09:30:00</td>\n",
              "      <td>4745.20</td>\n",
              "      <td>4745.20</td>\n",
              "      <td>4738.63</td>\n",
              "      <td>4742.78</td>\n",
              "      <td>0.0</td>\n",
              "    </tr>\n",
              "    <tr>\n",
              "      <th>1</th>\n",
              "      <td>2024-01-02 09:31:00</td>\n",
              "      <td>4742.96</td>\n",
              "      <td>4743.28</td>\n",
              "      <td>4741.36</td>\n",
              "      <td>4743.28</td>\n",
              "      <td>0.0</td>\n",
              "    </tr>\n",
              "    <tr>\n",
              "      <th>2</th>\n",
              "      <td>2024-01-02 09:32:00</td>\n",
              "      <td>4743.24</td>\n",
              "      <td>4744.86</td>\n",
              "      <td>4742.96</td>\n",
              "      <td>4744.67</td>\n",
              "      <td>0.0</td>\n",
              "    </tr>\n",
              "    <tr>\n",
              "      <th>3</th>\n",
              "      <td>2024-01-02 09:33:00</td>\n",
              "      <td>4744.84</td>\n",
              "      <td>4744.84</td>\n",
              "      <td>4742.10</td>\n",
              "      <td>4744.08</td>\n",
              "      <td>0.0</td>\n",
              "    </tr>\n",
              "    <tr>\n",
              "      <th>4</th>\n",
              "      <td>2024-01-02 09:34:00</td>\n",
              "      <td>4744.11</td>\n",
              "      <td>4744.37</td>\n",
              "      <td>4742.88</td>\n",
              "      <td>4743.21</td>\n",
              "      <td>0.0</td>\n",
              "    </tr>\n",
              "  </tbody>\n",
              "</table>\n",
              "</div>\n",
              "    <div class=\"colab-df-buttons\">\n",
              "\n",
              "  <div class=\"colab-df-container\">\n",
              "    <button class=\"colab-df-convert\" onclick=\"convertToInteractive('df-b9ea9654-5271-4487-a472-c6e291d78326')\"\n",
              "            title=\"Convert this dataframe to an interactive table.\"\n",
              "            style=\"display:none;\">\n",
              "\n",
              "  <svg xmlns=\"http://www.w3.org/2000/svg\" height=\"24px\" viewBox=\"0 -960 960 960\">\n",
              "    <path d=\"M120-120v-720h720v720H120Zm60-500h600v-160H180v160Zm220 220h160v-160H400v160Zm0 220h160v-160H400v160ZM180-400h160v-160H180v160Zm440 0h160v-160H620v160ZM180-180h160v-160H180v160Zm440 0h160v-160H620v160Z\"/>\n",
              "  </svg>\n",
              "    </button>\n",
              "\n",
              "  <style>\n",
              "    .colab-df-container {\n",
              "      display:flex;\n",
              "      gap: 12px;\n",
              "    }\n",
              "\n",
              "    .colab-df-convert {\n",
              "      background-color: #E8F0FE;\n",
              "      border: none;\n",
              "      border-radius: 50%;\n",
              "      cursor: pointer;\n",
              "      display: none;\n",
              "      fill: #1967D2;\n",
              "      height: 32px;\n",
              "      padding: 0 0 0 0;\n",
              "      width: 32px;\n",
              "    }\n",
              "\n",
              "    .colab-df-convert:hover {\n",
              "      background-color: #E2EBFA;\n",
              "      box-shadow: 0px 1px 2px rgba(60, 64, 67, 0.3), 0px 1px 3px 1px rgba(60, 64, 67, 0.15);\n",
              "      fill: #174EA6;\n",
              "    }\n",
              "\n",
              "    .colab-df-buttons div {\n",
              "      margin-bottom: 4px;\n",
              "    }\n",
              "\n",
              "    [theme=dark] .colab-df-convert {\n",
              "      background-color: #3B4455;\n",
              "      fill: #D2E3FC;\n",
              "    }\n",
              "\n",
              "    [theme=dark] .colab-df-convert:hover {\n",
              "      background-color: #434B5C;\n",
              "      box-shadow: 0px 1px 3px 1px rgba(0, 0, 0, 0.15);\n",
              "      filter: drop-shadow(0px 1px 2px rgba(0, 0, 0, 0.3));\n",
              "      fill: #FFFFFF;\n",
              "    }\n",
              "  </style>\n",
              "\n",
              "    <script>\n",
              "      const buttonEl =\n",
              "        document.querySelector('#df-b9ea9654-5271-4487-a472-c6e291d78326 button.colab-df-convert');\n",
              "      buttonEl.style.display =\n",
              "        google.colab.kernel.accessAllowed ? 'block' : 'none';\n",
              "\n",
              "      async function convertToInteractive(key) {\n",
              "        const element = document.querySelector('#df-b9ea9654-5271-4487-a472-c6e291d78326');\n",
              "        const dataTable =\n",
              "          await google.colab.kernel.invokeFunction('convertToInteractive',\n",
              "                                                    [key], {});\n",
              "        if (!dataTable) return;\n",
              "\n",
              "        const docLinkHtml = 'Like what you see? Visit the ' +\n",
              "          '<a target=\"_blank\" href=https://colab.research.google.com/notebooks/data_table.ipynb>data table notebook</a>'\n",
              "          + ' to learn more about interactive tables.';\n",
              "        element.innerHTML = '';\n",
              "        dataTable['output_type'] = 'display_data';\n",
              "        await google.colab.output.renderOutput(dataTable, element);\n",
              "        const docLink = document.createElement('div');\n",
              "        docLink.innerHTML = docLinkHtml;\n",
              "        element.appendChild(docLink);\n",
              "      }\n",
              "    </script>\n",
              "  </div>\n",
              "\n",
              "\n",
              "<div id=\"df-64f75c85-60f6-4b10-98d6-a87dfad623c2\">\n",
              "  <button class=\"colab-df-quickchart\" onclick=\"quickchart('df-64f75c85-60f6-4b10-98d6-a87dfad623c2')\"\n",
              "            title=\"Suggest charts\"\n",
              "            style=\"display:none;\">\n",
              "\n",
              "<svg xmlns=\"http://www.w3.org/2000/svg\" height=\"24px\"viewBox=\"0 0 24 24\"\n",
              "     width=\"24px\">\n",
              "    <g>\n",
              "        <path d=\"M19 3H5c-1.1 0-2 .9-2 2v14c0 1.1.9 2 2 2h14c1.1 0 2-.9 2-2V5c0-1.1-.9-2-2-2zM9 17H7v-7h2v7zm4 0h-2V7h2v10zm4 0h-2v-4h2v4z\"/>\n",
              "    </g>\n",
              "</svg>\n",
              "  </button>\n",
              "\n",
              "<style>\n",
              "  .colab-df-quickchart {\n",
              "      --bg-color: #E8F0FE;\n",
              "      --fill-color: #1967D2;\n",
              "      --hover-bg-color: #E2EBFA;\n",
              "      --hover-fill-color: #174EA6;\n",
              "      --disabled-fill-color: #AAA;\n",
              "      --disabled-bg-color: #DDD;\n",
              "  }\n",
              "\n",
              "  [theme=dark] .colab-df-quickchart {\n",
              "      --bg-color: #3B4455;\n",
              "      --fill-color: #D2E3FC;\n",
              "      --hover-bg-color: #434B5C;\n",
              "      --hover-fill-color: #FFFFFF;\n",
              "      --disabled-bg-color: #3B4455;\n",
              "      --disabled-fill-color: #666;\n",
              "  }\n",
              "\n",
              "  .colab-df-quickchart {\n",
              "    background-color: var(--bg-color);\n",
              "    border: none;\n",
              "    border-radius: 50%;\n",
              "    cursor: pointer;\n",
              "    display: none;\n",
              "    fill: var(--fill-color);\n",
              "    height: 32px;\n",
              "    padding: 0;\n",
              "    width: 32px;\n",
              "  }\n",
              "\n",
              "  .colab-df-quickchart:hover {\n",
              "    background-color: var(--hover-bg-color);\n",
              "    box-shadow: 0 1px 2px rgba(60, 64, 67, 0.3), 0 1px 3px 1px rgba(60, 64, 67, 0.15);\n",
              "    fill: var(--button-hover-fill-color);\n",
              "  }\n",
              "\n",
              "  .colab-df-quickchart-complete:disabled,\n",
              "  .colab-df-quickchart-complete:disabled:hover {\n",
              "    background-color: var(--disabled-bg-color);\n",
              "    fill: var(--disabled-fill-color);\n",
              "    box-shadow: none;\n",
              "  }\n",
              "\n",
              "  .colab-df-spinner {\n",
              "    border: 2px solid var(--fill-color);\n",
              "    border-color: transparent;\n",
              "    border-bottom-color: var(--fill-color);\n",
              "    animation:\n",
              "      spin 1s steps(1) infinite;\n",
              "  }\n",
              "\n",
              "  @keyframes spin {\n",
              "    0% {\n",
              "      border-color: transparent;\n",
              "      border-bottom-color: var(--fill-color);\n",
              "      border-left-color: var(--fill-color);\n",
              "    }\n",
              "    20% {\n",
              "      border-color: transparent;\n",
              "      border-left-color: var(--fill-color);\n",
              "      border-top-color: var(--fill-color);\n",
              "    }\n",
              "    30% {\n",
              "      border-color: transparent;\n",
              "      border-left-color: var(--fill-color);\n",
              "      border-top-color: var(--fill-color);\n",
              "      border-right-color: var(--fill-color);\n",
              "    }\n",
              "    40% {\n",
              "      border-color: transparent;\n",
              "      border-right-color: var(--fill-color);\n",
              "      border-top-color: var(--fill-color);\n",
              "    }\n",
              "    60% {\n",
              "      border-color: transparent;\n",
              "      border-right-color: var(--fill-color);\n",
              "    }\n",
              "    80% {\n",
              "      border-color: transparent;\n",
              "      border-right-color: var(--fill-color);\n",
              "      border-bottom-color: var(--fill-color);\n",
              "    }\n",
              "    90% {\n",
              "      border-color: transparent;\n",
              "      border-bottom-color: var(--fill-color);\n",
              "    }\n",
              "  }\n",
              "</style>\n",
              "\n",
              "  <script>\n",
              "    async function quickchart(key) {\n",
              "      const quickchartButtonEl =\n",
              "        document.querySelector('#' + key + ' button');\n",
              "      quickchartButtonEl.disabled = true;  // To prevent multiple clicks.\n",
              "      quickchartButtonEl.classList.add('colab-df-spinner');\n",
              "      try {\n",
              "        const charts = await google.colab.kernel.invokeFunction(\n",
              "            'suggestCharts', [key], {});\n",
              "      } catch (error) {\n",
              "        console.error('Error during call to suggestCharts:', error);\n",
              "      }\n",
              "      quickchartButtonEl.classList.remove('colab-df-spinner');\n",
              "      quickchartButtonEl.classList.add('colab-df-quickchart-complete');\n",
              "    }\n",
              "    (() => {\n",
              "      let quickchartButtonEl =\n",
              "        document.querySelector('#df-64f75c85-60f6-4b10-98d6-a87dfad623c2 button');\n",
              "      quickchartButtonEl.style.display =\n",
              "        google.colab.kernel.accessAllowed ? 'block' : 'none';\n",
              "    })();\n",
              "  </script>\n",
              "</div>\n",
              "\n",
              "    </div>\n",
              "  </div>\n"
            ],
            "application/vnd.google.colaboratory.intrinsic+json": {
              "type": "dataframe",
              "summary": "{\n  \"name\": \"spx2\",\n  \"rows\": 5,\n  \"fields\": [\n    {\n      \"column\": \"date\",\n      \"properties\": {\n        \"dtype\": \"string\",\n        \"num_unique_values\": 5,\n        \"samples\": [\n          \"2024-01-02 09:31:00\",\n          \"2024-01-02 09:34:00\",\n          \"2024-01-02 09:32:00\"\n        ],\n        \"semantic_type\": \"\",\n        \"description\": \"\"\n      }\n    },\n    {\n      \"column\": \"open\",\n      \"properties\": {\n        \"dtype\": \"number\",\n        \"std\": 0.9737042672187572,\n        \"min\": 4742.96,\n        \"max\": 4745.2,\n        \"num_unique_values\": 5,\n        \"samples\": [\n          4742.96,\n          4744.11,\n          4743.24\n        ],\n        \"semantic_type\": \"\",\n        \"description\": \"\"\n      }\n    },\n    {\n      \"column\": \"high\",\n      \"properties\": {\n        \"dtype\": \"number\",\n        \"std\": 0.7483314773548337,\n        \"min\": 4743.28,\n        \"max\": 4745.2,\n        \"num_unique_values\": 5,\n        \"samples\": [\n          4743.28,\n          4744.37,\n          4744.86\n        ],\n        \"semantic_type\": \"\",\n        \"description\": \"\"\n      }\n    },\n    {\n      \"column\": \"low\",\n      \"properties\": {\n        \"dtype\": \"number\",\n        \"std\": 1.775916664711513,\n        \"min\": 4738.63,\n        \"max\": 4742.96,\n        \"num_unique_values\": 5,\n        \"samples\": [\n          4741.36,\n          4742.88,\n          4742.96\n        ],\n        \"semantic_type\": \"\",\n        \"description\": \"\"\n      }\n    },\n    {\n      \"column\": \"close\",\n      \"properties\": {\n        \"dtype\": \"number\",\n        \"std\": 0.7586369355628293,\n        \"min\": 4742.78,\n        \"max\": 4744.67,\n        \"num_unique_values\": 5,\n        \"samples\": [\n          4743.28,\n          4743.21,\n          4744.67\n        ],\n        \"semantic_type\": \"\",\n        \"description\": \"\"\n      }\n    },\n    {\n      \"column\": \"volume\",\n      \"properties\": {\n        \"dtype\": \"number\",\n        \"std\": 0.0,\n        \"min\": 0.0,\n        \"max\": 0.0,\n        \"num_unique_values\": 1,\n        \"samples\": [\n          0.0\n        ],\n        \"semantic_type\": \"\",\n        \"description\": \"\"\n      }\n    }\n  ]\n}"
            }
          },
          "metadata": {},
          "execution_count": 17
        }
      ]
    },
    {
      "cell_type": "code",
      "source": [
        "\n",
        "def process_line(line):\n",
        "    # Split the line by commas\n",
        "    parts = line.strip().split(',')\n",
        "\n",
        "    # Select the 1st and 5th values (index 1 and 5)\n",
        "    selected_values = [parts[0], parts[4]]\n",
        "\n",
        "    # Function to space digits\n",
        "    def space_digits(value):\n",
        "        # Remove any decimal points\n",
        "        value = value.replace('.', '')\n",
        "        # Space out the digits\n",
        "        return ' '.join(value)\n",
        "\n",
        "    # Apply the digit spacing to the selected values\n",
        "    formatted_values = [space_digits(value) for value in selected_values]\n",
        "\n",
        "    # Join the formatted values with a comma\n",
        "    return ','.join(formatted_values)\n",
        "\n",
        "\n",
        "\n",
        "\n",
        "# Apply the formatting function to each row\n",
        "formatted_bag = spx1.map(process_line)\n",
        "\n",
        "# Save the result to a new CSV file\n",
        "formatted_bag.to_textfiles('formatted_msft_2023-*.csv')\n",
        "\n",
        "# Example to trigger the computation and see the first few results\n",
        "print(formatted_bag.take(5))"
      ],
      "metadata": {
        "colab": {
          "base_uri": "https://localhost:8080/"
        },
        "id": "EzC6dV-b1kgi",
        "outputId": "e0694cb9-c688-4580-cd67-ae4b6f71b08b"
      },
      "execution_count": 47,
      "outputs": [
        {
          "output_type": "stream",
          "name": "stdout",
          "text": [
            "('d a t e,c l o s e', '2 0 2 4 - 0 1 - 0 2   0 9 : 3 0 : 0 0,4 7 4 2 7 8', '2 0 2 4 - 0 1 - 0 2   0 9 : 3 1 : 0 0,4 7 4 3 2 8', '2 0 2 4 - 0 1 - 0 2   0 9 : 3 2 : 0 0,4 7 4 4 6 7', '2 0 2 4 - 0 1 - 0 2   0 9 : 3 3 : 0 0,4 7 4 4 0 8')\n"
          ]
        }
      ]
    }
  ]
}